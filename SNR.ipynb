{
 "cells": [
  {
   "cell_type": "markdown",
   "metadata": {},
   "source": [
    "# Input 3 times\n",
    "### 1) Folder Path\n",
    "### 2) Sound main of SNR\n",
    "### 3) Sound noise of SNR"
   ]
  },
  {
   "cell_type": "code",
   "execution_count": null,
   "metadata": {},
   "outputs": [],
   "source": [
    "import numpy as np\n",
    "import librosa\n",
    "import librosa.display\n",
    "import IPython.display as ipd\n",
    "import sys, os\n",
    "import matplotlib.pyplot as plt\n",
    "#%matplotlib inline"
   ]
  },
  {
   "cell_type": "markdown",
   "metadata": {},
   "source": [
    "# Input folder and read file"
   ]
  },
  {
   "cell_type": "code",
   "execution_count": null,
   "metadata": {},
   "outputs": [],
   "source": [
    "path = input('Please input the folder path :')\n",
    "\n",
    "def loadsound(path):\n",
    "    folder = librosa.util.find_files(path)\n",
    "    sound = []\n",
    "    for i in range(len(folder)):\n",
    "        x, sr = librosa.load(folder[i], sr=44100)\n",
    "        sound.append(x)\n",
    "        \n",
    "    return sound, folder\n",
    "\n",
    "\n",
    "data = loadsound(path)[0] #Sound data as list type\n",
    "fileLoc = loadsound(path)[1] #file\n",
    "\n",
    "def filename():   \n",
    "    filename = []\n",
    "    for i in range(len(fileLoc)):\n",
    "        h, t = os.path.split(fileLoc[i])\n",
    "        filename.append(t)\n",
    "        \n",
    "    return filename\n",
    "\n",
    "filename = filename()"
   ]
  },
  {
   "cell_type": "markdown",
   "metadata": {},
   "source": [
    "# Audio Player "
   ]
  },
  {
   "cell_type": "code",
   "execution_count": null,
   "metadata": {},
   "outputs": [],
   "source": [
    "ipd.Audio(fileLoc[0],)"
   ]
  },
  {
   "cell_type": "markdown",
   "metadata": {},
   "source": [
    "# Mel Spectogram \n",
    "\n",
    "### - If you want to plot. Please delete the # of plotMel()"
   ]
  },
  {
   "cell_type": "code",
   "execution_count": null,
   "metadata": {},
   "outputs": [],
   "source": [
    "def mel():\n",
    "    mel =[]\n",
    "    for i in range(0,len(fileLoc)):\n",
    "        mel.append(librosa.feature.melspectrogram(data[i], sr=44100))\n",
    "        \n",
    "    return mel\n",
    "\n",
    "ResultMel = mel()\n",
    "\n",
    "def plotMel() :\n",
    "    for i in range(0,len(fileLoc)):\n",
    "        plt.figure(figsize=(15,12))\n",
    "        plt.subplot(len(fileLoc),1,i+1)\n",
    "        plt.title('Mel of %s' %filename[i])\n",
    "        librosa.display.specshow(librosa.power_to_db(ResultMel[i]), x_axis='time', y_axis ='mel', sr=44100)\n",
    "        plt.colorbar(format='%+2.0f dB',)\n",
    "        plt.show()\n",
    "\n",
    "#plotMel() "
   ]
  },
  {
   "cell_type": "markdown",
   "metadata": {},
   "source": [
    "# RMS \n",
    "\n",
    "### - RMS will be used in SNR.\n",
    "### - If you want to plot. Please delete the # of plotRMS()\n"
   ]
  },
  {
   "cell_type": "code",
   "execution_count": null,
   "metadata": {},
   "outputs": [],
   "source": [
    "def RMS():\n",
    "    rms = []\n",
    "    for i in range(len(fileLoc)):\n",
    "        rms.append(np.sqrt(np.sum(np.abs(data[i])**2)/len(data[i])))\n",
    "        print ('RMS No. %d of %s : %s' %(i, filename[i], np.around(rms[i], decimals=4)))\n",
    "\n",
    "    return rms\n",
    "\n",
    "ResultRMS = RMS()\n",
    "\n",
    "def plotRMS():\n",
    "    for i in range(0,len(ResultRMS)):\n",
    "        plt.figure(figsize=(15,15))\n",
    "        plt.subplot(len(ResultRMS),1,i+1)\n",
    "        plt.title('RMS : %s' %filename[i])\n",
    "        librosa.display.waveplot(data[i], sr=44100)\n",
    "        plt.tight_layout(pad=3)\n",
    "        plt.show()\n",
    "        \n",
    "#plotRMS()"
   ]
  },
  {
   "cell_type": "markdown",
   "metadata": {},
   "source": [
    "# Signal to noise ratio "
   ]
  },
  {
   "cell_type": "code",
   "execution_count": null,
   "metadata": {},
   "outputs": [],
   "source": [
    "def SNR(RMSmain, RMSnoise):\n",
    "    main = np.mean(ResultRMS[RMSmain])\n",
    "    noise = np.mean(ResultRMS[RMSnoise])\n",
    "    snr = 20*np.log10((main)/(noise))\n",
    "    print ('SNR %s and %s = %s ' %(filename[RMSmain], filename[RMSnoise], snr))\n",
    "    \n",
    "\n",
    "    return snr\n",
    "\n",
    "RMSmain = int(input('Please input index of main:' )) # See above at RMS No. ? \n",
    "RMSnoise = int(input('Please input index of noise:' )) # See above at RMS No. ? \n",
    "\n",
    "SNR(RMSmain, RMSnoise)"
   ]
  },
  {
   "cell_type": "code",
   "execution_count": null,
   "metadata": {},
   "outputs": [],
   "source": []
  }
 ],
 "metadata": {
  "kernelspec": {
   "display_name": "Python 3",
   "language": "python",
   "name": "python3"
  },
  "language_info": {
   "codemirror_mode": {
    "name": "ipython",
    "version": 3
   },
   "file_extension": ".py",
   "mimetype": "text/x-python",
   "name": "python",
   "nbconvert_exporter": "python",
   "pygments_lexer": "ipython3",
   "version": "3.7.3"
  }
 },
 "nbformat": 4,
 "nbformat_minor": 4
}
